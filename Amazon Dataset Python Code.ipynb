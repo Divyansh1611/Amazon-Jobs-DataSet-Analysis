{
 "cells": [
  {
   "cell_type": "code",
   "execution_count": 42,
   "id": "bc75c62a",
   "metadata": {},
   "outputs": [],
   "source": [
    "import csv\n"
   ]
  },
  {
   "cell_type": "markdown",
   "id": "73c4aa1b",
   "metadata": {},
   "source": [
    "Job Location Program\n",
    "\n",
    "Ques : '''Print the Number of Job opening in Bangalore and Seattle as Integer value.'''"
   ]
  },
  {
   "cell_type": "code",
   "execution_count": 10,
   "id": "62f8ef34",
   "metadata": {},
   "outputs": [
    {
     "name": "stdout",
     "output_type": "stream",
     "text": [
      "66 1856\n"
     ]
    }
   ],
   "source": [
    "opening_India = 'Bangalore'\n",
    "opening_US = 'Seattle'\n",
    "count_India = 0\n",
    "count_US = 0\n",
    "with open('Amazon_jobs_dataset.csv','r',encoding='utf-8') as f:\n",
    "    resData = list(csv.DictReader(f))\n",
    "    for row in resData:\n",
    "        if opening_India in row['location']:\n",
    "            count_India += 1\n",
    "        if opening_US in row['location']:\n",
    "            count_US += 1\n",
    "    print(\"{0} {1}\".format(count_India,count_US))\n",
    "    "
   ]
  },
  {
   "cell_type": "markdown",
   "id": "70fe4f0d",
   "metadata": {},
   "source": [
    "Job Computer Vision Program\n",
    "\n",
    "Ques : \"What are the total number of job openings related to Computer Vision ?\" \n",
    "\n",
    "        Note:For finding the job related to computer vision check the Job Title column.\n",
    "        Print the count as the Integer Value"
   ]
  },
  {
   "cell_type": "code",
   "execution_count": 19,
   "id": "48bc07f9",
   "metadata": {},
   "outputs": [
    {
     "name": "stdout",
     "output_type": "stream",
     "text": [
      "14\n"
     ]
    }
   ],
   "source": [
    "job_opening_title = 'computer vision'\n",
    "count = 0\n",
    "with open('Amazon_jobs_dataset.csv','r', encoding='utf-8') as f:\n",
    "    resData = list(csv.DictReader(f))\n",
    "    for row in resData:\n",
    "        if job_opening_title in row['Title'].lower():\n",
    "            count += 1\n",
    "    print(count)"
   ]
  },
  {
   "cell_type": "markdown",
   "id": "cdf44c27",
   "metadata": {},
   "source": [
    "Job Canada\n",
    "\n",
    "Ques : \"Find the number of job openings in Canada?\"\n",
    "\n",
    "Print the count as the Integer Value\n",
    "\n",
    "Note: Here you should analyse the country code in location feature.( you can use dictionary for analyse part ).\n",
    "\n"
   ]
  },
  {
   "cell_type": "code",
   "execution_count": 26,
   "id": "cad6ee11",
   "metadata": {},
   "outputs": [
    {
     "name": "stdout",
     "output_type": "stream",
     "text": [
      "156\n"
     ]
    }
   ],
   "source": [
    "opening_Canada = 'CA'\n",
    "count = 0\n",
    "with open('Amazon_jobs_dataset.csv','r', encoding='utf-8') as f:\n",
    "    resData = list(csv.DictReader(f))\n",
    "    for row in resData:\n",
    "        strr = row['location']\n",
    "        if opening_Canada == strr[0:2] :\n",
    "            count += 1\n",
    "    print(count)"
   ]
  },
  {
   "cell_type": "markdown",
   "id": "a16b4c66",
   "metadata": {},
   "source": [
    "Job Month 2018\n",
    "\n",
    "Ques : Find  the month having most job openings in Year 2018 ?\n",
    "\n",
    "Print the month (Month Name i.e January, February, March) and Number of job opening as Integer Value"
   ]
  },
  {
   "cell_type": "code",
   "execution_count": 41,
   "id": "c62ab066",
   "metadata": {},
   "outputs": [
    {
     "name": "stdout",
     "output_type": "stream",
     "text": [
      "January 907\n",
      "{'March': 13, 'February': 790, 'January': 907}\n"
     ]
    }
   ],
   "source": [
    "month_dict = {}\n",
    "date_column= 'Posting_date'\n",
    "year = '2018'\n",
    "with open('Amazon_jobs_dataset.csv', 'r', encoding='utf-8') as f:\n",
    "    resData = list(csv.DictReader(f, skipinitialspace= True))\n",
    "    for row in resData:\n",
    "        month_list = list(row[date_column].strip().split(' '))\n",
    "        if year in month_list:\n",
    "            if month_list[0] in month_dict:\n",
    "                month_dict[month_list[0]] += 1\n",
    "            else:\n",
    "                month_dict[month_list[0]] = 1\n",
    "          \n",
    "    highest_val = max(month_dict.values())\n",
    "    for i in month_dict.keys():\n",
    "        if month_dict[i] == highest_val:\n",
    "            print(\"{0} {1}\".format(i, month_dict[i]))\n",
    "                \n",
    "    print(month_dict)"
   ]
  },
  {
   "cell_type": "markdown",
   "id": "5f9e9378",
   "metadata": {},
   "source": [
    "Job Degree\n",
    "\n",
    "Ques : \"Find the number of  job openings are present if applicant have Bachelor degree?\"\n",
    "\n",
    "Print the count as Integer value\n",
    "\n",
    "Note : Here we will use the BASIC QUALIFICATIONS feature to find out whether bachelor degree for Job is required or not. Keywords that can be used are 'Bachelor', 'BS' and 'BA'.\n",
    "\n"
   ]
  },
  {
   "cell_type": "code",
   "execution_count": 47,
   "id": "c328b187",
   "metadata": {},
   "outputs": [
    {
     "name": "stdout",
     "output_type": "stream",
     "text": [
      "2961\n"
     ]
    }
   ],
   "source": [
    "count = 0\n",
    "check_Bachelor = ['Bachelor','BS','BA']\n",
    "with open('Amazon_jobs_dataset.csv', 'r', encoding='utf-8') as f:\n",
    "    resData = list(csv.DictReader(f, skipinitialspace = True))\n",
    "    for row in resData:\n",
    "        for bach in check_Bachelor:\n",
    "            if bach in row['BASIC QUALIFICATIONS']:\n",
    "                count += 1\n",
    "                break\n",
    "    print(count)\n",
    "        \n",
    "    "
   ]
  },
  {
   "cell_type": "markdown",
   "id": "888332c0",
   "metadata": {},
   "source": [
    "Job Language\n",
    "\n",
    "Ques : \"Among Java, C++ and Python, which of the language has more job openings in India for Bachelor Degree Holder?\"\n",
    "\n",
    "Print the Language(i.e Java,C++,Python) and number of job opening as integer value.\n",
    "\n",
    "Note : Here we will use the BASIC QUALIFICATIONS feature to find out whether bachelor degree for Job is required or not. Keywords that can be used are 'Bachelor', 'BS' and 'BA' and  we will use the BASIC QUALIFICATIONS feature to find out whether Language is required for the job or not.Keywords that is  used for language searching are 'Java','C++' or 'Python'.(There case should not be changed)."
   ]
  },
  {
   "cell_type": "code",
   "execution_count": 54,
   "id": "4b927c41",
   "metadata": {},
   "outputs": [
    {
     "name": "stdout",
     "output_type": "stream",
     "text": [
      "Java 103\n"
     ]
    }
   ],
   "source": [
    "language_dict = {'Java' : 0, 'C++': 0, 'Python': 0 }\n",
    "location = 'IN'\n",
    "\n",
    "with open('Amazon_jobs_dataset.csv','r',encoding='utf-8') as f:\n",
    "    resData = list(csv.DictReader(f, skipinitialspace = True))\n",
    "    for row in resData:\n",
    "        loc = row['location'].strip().split(\",\")# list of location Data like = (\"IN\",\"KA\", \"Bangalore\")\n",
    "        a = row['BASIC QUALIFICATIONS']\n",
    "        if ('Java' in a) and ('Bachelor' in a or 'BA' in a or 'BS' in a) and (location in loc[0]):\n",
    "            language_dict['Java'] += 1 \n",
    "        if ('C++' in a) and ('Bachelor' in a or 'BA' in a or 'BS' in a) and (location in loc[0]):\n",
    "            language_dict['C++'] += 1 \n",
    "        if ('Python' in a) and ('Bachelor' in a or 'BA' in a or 'BS' in a) and (location in loc[0]):\n",
    "            language_dict['Python'] += 1 \n",
    "    \n",
    "\n",
    "    highest_val = max(language_dict.values())\n",
    "    #print(highest_val)\n",
    "    for i in language_dict.keys():\n",
    "        if language_dict[i] == highest_val:\n",
    "            print(\"{0} {1}\".format(i, language_dict[i]))\n",
    "            \n",
    "                \n",
    "                \n",
    "                "
   ]
  },
  {
   "cell_type": "markdown",
   "id": "eb576265",
   "metadata": {},
   "source": [
    "Job Java\n",
    "\n",
    "Ques : \"Find the country does Amazon need the most number of Java Developer?\"\n",
    "\n",
    "Print the Country(Country Shortcut as given in Dataset) and number of job opening as integer value\n",
    "\n",
    "Note :Here we will use the BASIC QUALIFICATIONS feature to find out whether Java is required for the job or not.Keyword is used is 'Java'.(Here case should not be changed)."
   ]
  },
  {
   "cell_type": "code",
   "execution_count": 62,
   "id": "18267fda",
   "metadata": {},
   "outputs": [
    {
     "name": "stdout",
     "output_type": "stream",
     "text": [
      "US 2009\n"
     ]
    }
   ],
   "source": [
    "country_dict = {}\n",
    "with open ('Amazon_jobs_dataset.csv', 'r', encoding='utf-8') as f:\n",
    "    resData = list(csv.DictReader(f, skipinitialspace = True ))\n",
    "    for row in resData:\n",
    "        loc = row['location'].strip().split(',')\n",
    "        a = row['BASIC QUALIFICATIONS']\n",
    "        if 'Java' in a:\n",
    "            if loc[0] in country_dict :\n",
    "                country_dict[loc[0]] += 1\n",
    "            else:\n",
    "                country_dict[loc[0]] = 1\n",
    "    \n",
    "    highest_val = max(country_dict.values())\n",
    "    for i in country_dict.keys():\n",
    "        if country_dict[i] == highest_val:\n",
    "            print(\"{0} {1}\".format(i, country_dict[i]))\n",
    "    \n",
    "        "
   ]
  },
  {
   "cell_type": "code",
   "execution_count": null,
   "id": "61b38482",
   "metadata": {},
   "outputs": [],
   "source": []
  }
 ],
 "metadata": {
  "kernelspec": {
   "display_name": "Python 3 (ipykernel)",
   "language": "python",
   "name": "python3"
  },
  "language_info": {
   "codemirror_mode": {
    "name": "ipython",
    "version": 3
   },
   "file_extension": ".py",
   "mimetype": "text/x-python",
   "name": "python",
   "nbconvert_exporter": "python",
   "pygments_lexer": "ipython3",
   "version": "3.11.5"
  }
 },
 "nbformat": 4,
 "nbformat_minor": 5
}
